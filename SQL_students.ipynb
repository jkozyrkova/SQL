{
 "cells": [
  {
   "cell_type": "markdown",
   "metadata": {},
   "source": [
    "## Задание 2. SQL  \n",
    "### 2.1 Очень усердные ученики.\n",
    "\n",
    "2.1.1 Условие\n",
    "\n",
    "Образовательные курсы состоят из различных уроков, каждый из которых состоит из нескольких маленьких заданий. Каждое такое маленькое задание называется \"горошиной\".\n",
    "\n",
    "Назовём очень усердным учеником того пользователя, который хотя бы раз за текущий месяц правильно решил 20 горошин.  \n",
    "\n",
    "2.1.2 Задача\n",
    "\n",
    "Дана таблица default.peas:\n",
    "\n",
    "st_id - \tID ученика  \n",
    "timest - Время решения карточки  \n",
    "correct\t- Правильно ли решена горошина?  \n",
    "subject\t- Дисциплина, в которой находится горошина  \n",
    "\n",
    "Необходимо написать оптимальный запрос, который даст информацию о количестве очень усердных студентов.  \n",
    "NB! Под усердным студентом мы понимаем студента, который правильно решил 20 задач за текущий месяц."
   ]
  },
  {
   "cell_type": "code",
   "execution_count": 1,
   "metadata": {},
   "outputs": [],
   "source": [
    "# Импортирую библиотеки\n",
    "\n",
    "import pandas as pd\n",
    "import pandahouse as ph"
   ]
  },
  {
   "cell_type": "code",
   "execution_count": 2,
   "metadata": {},
   "outputs": [],
   "source": [
    "# Создаю словарь connection с нужными параметрами\n",
    "\n",
    "connection_default = {'host': 'https://clickhouse.lab.karpov.courses',\n",
    "                      'database':'default',\n",
    "                      'user':'student', \n",
    "                      'password':'dpo_python_2020'}"
   ]
  },
  {
   "cell_type": "markdown",
   "metadata": {},
   "source": [
    "Алгоритм запроса:\n",
    "\n",
    "1. Сначала делаю подзапрос: формирую таблицу, в которой будет просуммированно количество правильно решенных задач в разрезе месяцев \n",
    "и студентов. Для того, чтобы группировать даты помесячно, привожу исходные даты к началу месяца (у нас данные только за один месяц, но это оптимизация запроса для возможного будущего использования).\n",
    "2. Из данной таблицы отбираю тех студентов, у которых количество правильно решенных задач больше или равно 20.\n",
    "3. На основе полученной в подзапросе таблицы считаю кол-во уникальных id студентов    "
   ]
  },
  {
   "cell_type": "code",
   "execution_count": 3,
   "metadata": {},
   "outputs": [],
   "source": [
    "# Cоздаю запрос:\n",
    "\n",
    "q1 = '''\n",
    "    SELECT COUNT(DISTINCT st_id) as number_diligent\n",
    "    FROM\n",
    "    (\n",
    "        SELECT  toStartOfMonth(timest) as Date,\n",
    "                st_id,\n",
    "                SUM(correct) as Number_correct\n",
    "        FROM peas\n",
    "        GROUP BY Date,\n",
    "                st_id\n",
    "        HAVING Number_correct >= 20\n",
    "    )    \n",
    "    '''"
   ]
  },
  {
   "cell_type": "code",
   "execution_count": 4,
   "metadata": {},
   "outputs": [
    {
     "data": {
      "text/html": [
       "<div>\n",
       "<style scoped>\n",
       "    .dataframe tbody tr th:only-of-type {\n",
       "        vertical-align: middle;\n",
       "    }\n",
       "\n",
       "    .dataframe tbody tr th {\n",
       "        vertical-align: top;\n",
       "    }\n",
       "\n",
       "    .dataframe thead th {\n",
       "        text-align: right;\n",
       "    }\n",
       "</style>\n",
       "<table border=\"1\" class=\"dataframe\">\n",
       "  <thead>\n",
       "    <tr style=\"text-align: right;\">\n",
       "      <th></th>\n",
       "      <th>number_diligent</th>\n",
       "    </tr>\n",
       "  </thead>\n",
       "  <tbody>\n",
       "    <tr>\n",
       "      <th>0</th>\n",
       "      <td>136</td>\n",
       "    </tr>\n",
       "  </tbody>\n",
       "</table>\n",
       "</div>"
      ],
      "text/plain": [
       "   number_diligent\n",
       "0              136"
      ]
     },
     "execution_count": 4,
     "metadata": {},
     "output_type": "execute_result"
    }
   ],
   "source": [
    "# Отправляю запрос и записываю результат в датафрейм\n",
    "\n",
    "diligent_students  = ph.read_clickhouse(query=q1, connection=connection_default)\n",
    "diligent_students"
   ]
  },
  {
   "cell_type": "code",
   "execution_count": 5,
   "metadata": {},
   "outputs": [
    {
     "name": "stdout",
     "output_type": "stream",
     "text": [
      "Вывод: количество усердных студентов - 136\n"
     ]
    }
   ],
   "source": [
    "print(f\"Вывод: количество усердных студентов - {diligent_students['number_diligent'][0]}\")"
   ]
  },
  {
   "cell_type": "markdown",
   "metadata": {},
   "source": [
    "### 2.2 Оптимизация воронки\n",
    "\n",
    "2.2.1 Условие  \n",
    "\n",
    "Образовательная платформа предлагает пройти студентам курсы по модели trial: студент может решить бесплатно лишь 30 горошин в день. Для неограниченного количества заданий в определенной дисциплине студенту необходимо приобрести полный доступ. Команда провела эксперимент, где был протестирован новый экран оплаты.\n",
    "\n",
    "2.2.2 Задача\n",
    "\n",
    "Даны таблицы: \n",
    "- default.peas (см. выше), \n",
    "\n",
    "- default.studs:\n",
    "\n",
    "st_id - ID ученика  \n",
    "test_grp - Метка ученика в данном эксперименте\n",
    "\n",
    "- default.final_project_check:\n",
    "\n",
    "st_id - ID ученика  \n",
    "sale_time - Время покупки  \n",
    "money - Цена, по которой приобрели данный курс  \n",
    "subject\t- Дисциплина\t  \n",
    "\n",
    "\n",
    "Необходимо в одном запросе выгрузить следующую информацию о группах пользователей:\n",
    "\n",
    "- ARPU   \n",
    "- ARPAU   \n",
    "- CR в покупку   \n",
    "- СR активного пользователя в покупку   \n",
    "- CR пользователя из активности по математике (subject = ’math’) в покупку курса по математике  \n",
    "\n",
    "ARPU считается относительно всех пользователей, попавших в группы.  \n",
    "Активным считается пользователь, за все время решивший больше 10 задач правильно в любых дисциплинах.  \n",
    "Активным по математике считается пользователь, за все время решивший 2 или больше задач правильно по математике."
   ]
  },
  {
   "cell_type": "markdown",
   "metadata": {},
   "source": [
    "Алгоритм запроса:\n",
    "1. Формирую исходную таблицу. Для этого в таблице peas считаю количество правильно решенных задач всего и по только по математике в разрезе студентов. \n",
    "2. Объединяю данную таблицу с таблицей studs через left join (отдельно проверила, что в таблице studs содержатся только уникальные значения id студентов). Левая таблица - studs, так как в ней содержатся id всех студентов, разделенных на группы, которые мне нужны для анализа. И к таблице studs  я добавляю информацию о количестве решенных задач из таблицы peas по тем студентам, по которым эта информация есть.\n",
    "3. В таблице final_project_check считаю сумму оплат по всем дисциплинам и только по математике в разрезе студентов.\n",
    "4. Таблицу, полученную на шаге 2, объединяю с таблицей из шага 3 с помощью left join. Левая таблица - таблица, полученная на шаге 2, так как в ней содержатся все id студентов, которые мне нужны для анализа. Исходная таблица готова.\n",
    "5. На основе полученной таблицы в блоке SELECT рассчитываю все необходимые метрики  разрезе групп (control/pilot). Для отбора значений по определенным условиям использую функции sumIf и countIf."
   ]
  },
  {
   "cell_type": "code",
   "execution_count": 6,
   "metadata": {},
   "outputs": [],
   "source": [
    "# Cоздаю запрос:\n",
    "\n",
    "q2 = '''\n",
    "    SELECT test_grp,\n",
    "           ROUND((SUM(money_total) / COUNT(st_id)), 2) as ARPU,\n",
    "           ROUND(sumIf(money_total, correct_total > 10) / countIf(st_id, correct_total > 10), 2) as ARPAU,\n",
    "           ROUND(countIf(st_id, money_total > 0) / COUNT(st_id) * 100, 2) as CR,\n",
    "           ROUND(countIf(st_id, (money_total > 0 AND correct_total > 10)) / countIf(st_id, correct_total > 10) * 100, 2) as CR_active,\n",
    "           ROUND(countIf(st_id, (money_math > 0 AND correct_math  >= 2)) / countIf(st_id, correct_math >= 2) * 100, 2) as CR_active_math\n",
    "    FROM\n",
    "    (\n",
    "        SELECT *\n",
    "        FROM studs as l\n",
    "        LEFT JOIN \n",
    "        (\n",
    "            SELECT st_id,\n",
    "                   sumIf(correct, subject = 'Math') as correct_math,\n",
    "                   SUM(correct) as correct_total \n",
    "            FROM peas\n",
    "            GROUP BY st_id\n",
    "        ) as r\n",
    "        ON l.st_id = r.st_id\n",
    "    ) as l\n",
    "    LEFT JOIN \n",
    "    (\n",
    "        SELECT st_id,\n",
    "               sumIf(money, subject = 'Math') as money_math,\n",
    "               SUM(money) as money_total\n",
    "        FROM final_project_check\n",
    "        GROUP BY st_id\n",
    "    ) as r\n",
    "    ON l.st_id = r.st_id\n",
    "    GROUP BY test_grp\n",
    "    \n",
    "    '''"
   ]
  },
  {
   "cell_type": "code",
   "execution_count": 7,
   "metadata": {},
   "outputs": [
    {
     "data": {
      "text/html": [
       "<div>\n",
       "<style scoped>\n",
       "    .dataframe tbody tr th:only-of-type {\n",
       "        vertical-align: middle;\n",
       "    }\n",
       "\n",
       "    .dataframe tbody tr th {\n",
       "        vertical-align: top;\n",
       "    }\n",
       "\n",
       "    .dataframe thead th {\n",
       "        text-align: right;\n",
       "    }\n",
       "</style>\n",
       "<table border=\"1\" class=\"dataframe\">\n",
       "  <thead>\n",
       "    <tr style=\"text-align: right;\">\n",
       "      <th></th>\n",
       "      <th>test_grp</th>\n",
       "      <th>ARPU</th>\n",
       "      <th>ARPAU</th>\n",
       "      <th>CR</th>\n",
       "      <th>CR_active</th>\n",
       "      <th>CR_active_math</th>\n",
       "    </tr>\n",
       "  </thead>\n",
       "  <tbody>\n",
       "    <tr>\n",
       "      <th>0</th>\n",
       "      <td>control</td>\n",
       "      <td>4540.98</td>\n",
       "      <td>10393.70</td>\n",
       "      <td>4.92</td>\n",
       "      <td>11.02</td>\n",
       "      <td>6.12</td>\n",
       "    </tr>\n",
       "    <tr>\n",
       "      <th>1</th>\n",
       "      <td>pilot</td>\n",
       "      <td>11508.47</td>\n",
       "      <td>29739.58</td>\n",
       "      <td>10.85</td>\n",
       "      <td>26.04</td>\n",
       "      <td>9.52</td>\n",
       "    </tr>\n",
       "  </tbody>\n",
       "</table>\n",
       "</div>"
      ],
      "text/plain": [
       "  test_grp      ARPU     ARPAU     CR  CR_active  CR_active_math\n",
       "0  control   4540.98  10393.70   4.92      11.02            6.12\n",
       "1    pilot  11508.47  29739.58  10.85      26.04            9.52"
      ]
     },
     "execution_count": 7,
     "metadata": {},
     "output_type": "execute_result"
    }
   ],
   "source": [
    "# Отправляю запрос и записываю результат в датафрейм\n",
    "\n",
    "groups_metrics  = ph.read_clickhouse(query=q2, connection=connection_default)\n",
    "groups_metrics"
   ]
  },
  {
   "cell_type": "markdown",
   "metadata": {},
   "source": [
    "### Вывод: \n",
    "Как мы видим, все метрики в тестовой(пилотной) группе, на которой тестировали новый экран оплаты, выросли. Необходимо проверить статистическую значимость полученных различий и затем сделать вывод о том, можно ли на основе данных метрик принять решение об эффективности нового экрана оплаты."
   ]
  }
 ],
 "metadata": {
  "kernelspec": {
   "display_name": "Python 3",
   "language": "python",
   "name": "python3"
  },
  "language_info": {
   "codemirror_mode": {
    "name": "ipython",
    "version": 3
   },
   "file_extension": ".py",
   "mimetype": "text/x-python",
   "name": "python",
   "nbconvert_exporter": "python",
   "pygments_lexer": "ipython3",
   "version": "3.7.3"
  }
 },
 "nbformat": 4,
 "nbformat_minor": 4
}
